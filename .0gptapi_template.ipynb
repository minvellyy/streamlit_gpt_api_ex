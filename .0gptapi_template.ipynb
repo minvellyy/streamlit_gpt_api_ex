{
 "cells": [
  {
   "cell_type": "code",
   "execution_count": 4,
   "id": "5bcb24d5",
   "metadata": {},
   "outputs": [],
   "source": [
    "from openai import OpenAI\n",
    "from dotenv import load_dotenv\n",
    "import os\n",
    "\n",
    "# 환경변수 로딩\n",
    "load_dotenv(override=True)\n",
    "\n",
    "# 메모리에 로딩된 값을 api_key 변수에 대입\n",
    "OPENAI_API_KEY = os.environ.get(\"OPENAI_API_KEY\")\n",
    "# print(api_key)\n",
    "\n",
    "# OpenAI 객체 생성\n",
    "client = OpenAI(api_key=OPENAI_API_KEY)"
   ]
  },
  {
   "cell_type": "code",
   "execution_count": 5,
   "id": "958bc7ce",
   "metadata": {},
   "outputs": [],
   "source": [
    "from openai import OpenAI\n",
    "# openai api 인증 및 OpenAI 객체 생성\n",
    "client = OpenAI(api_key=OPENAI_API_KEY)"
   ]
  },
  {
   "cell_type": "code",
   "execution_count": 6,
   "id": "dbc0bf48",
   "metadata": {},
   "outputs": [
    {
     "name": "stdout",
     "output_type": "stream",
     "text": [
      "ChatCompletionMessage(content='전세계에서 가장 많이 사용되는 프로그래밍 언어 top 5는 다음과 같습니다:\\n\\n1. JavaScript\\n2. Python\\n3. Java\\n4. C#\\n5. PHP\\n\\n이외에도 여러 다양한 프로그래밍 언어가 있지만, 현재 이 5가지 언어는 가장 많은 개발자들이 사용하고 있습니다.', refusal=None, role='assistant', annotations=[], audio=None, function_call=None, tool_calls=None)\n"
     ]
    }
   ],
   "source": [
    "completion = client.chat.completions.create(\n",
    "  model=\"gpt-3.5-turbo\",\n",
    "  messages=[\n",
    "    {\"role\": \"system\", \"content\": \"너는 IT전문가야.\"},\n",
    "    {\"role\": \"user\", \"content\": \"전세계서 가장 많이 사용하는 프로그래밍 언어 top5를 얘기해줘\"}\n",
    "  ]\n",
    ")\n",
    "\n",
    "print(completion.choices[0].message)"
   ]
  },
  {
   "cell_type": "code",
   "execution_count": null,
   "id": "be5dfb4b",
   "metadata": {},
   "outputs": [],
   "source": []
  }
 ],
 "metadata": {
  "kernelspec": {
   "display_name": "gpt_env",
   "language": "python",
   "name": "gpt_env"
  },
  "language_info": {
   "codemirror_mode": {
    "name": "ipython",
    "version": 3
   },
   "file_extension": ".py",
   "mimetype": "text/x-python",
   "name": "python",
   "nbconvert_exporter": "python",
   "pygments_lexer": "ipython3",
   "version": "3.12.12"
  }
 },
 "nbformat": 4,
 "nbformat_minor": 5
}
